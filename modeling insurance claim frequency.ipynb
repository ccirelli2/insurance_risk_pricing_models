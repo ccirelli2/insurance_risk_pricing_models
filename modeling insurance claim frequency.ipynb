{
 "cells": [
  {
   "cell_type": "code",
   "execution_count": 1,
   "metadata": {},
   "outputs": [
    {
     "data": {
      "text/html": [
       "'Ref: https://medium.com/swlh/modeling-insurance-claim-frequency-a776f3bf41dc\\n'"
      ],
      "text/latex": [
       "'Ref: https://medium.com/swlh/modeling-insurance-claim-frequency-a776f3bf41dc\\textbackslash{}n'"
      ],
      "text/markdown": [
       "'Ref: https://medium.com/swlh/modeling-insurance-claim-frequency-a776f3bf41dc\\n'"
      ],
      "text/plain": [
       "[1] \"Ref: https://medium.com/swlh/modeling-insurance-claim-frequency-a776f3bf41dc\\n\""
      ]
     },
     "metadata": {},
     "output_type": "display_data"
    }
   ],
   "source": [
    "'Ref: https://medium.com/swlh/modeling-insurance-claim-frequency-a776f3bf41dc\n",
    "'"
   ]
  },
  {
   "cell_type": "code",
   "execution_count": null,
   "metadata": {},
   "outputs": [],
   "source": [
    "# Import Libraries"
   ]
  },
  {
   "cell_type": "code",
   "execution_count": 2,
   "metadata": {},
   "outputs": [
    {
     "name": "stderr",
     "output_type": "stream",
     "text": [
      "Warning message:\n",
      "\"package 'AER' was built under R version 3.6.3\"Loading required package: car\n",
      "Warning message:\n",
      "\"package 'car' was built under R version 3.6.3\"Loading required package: carData\n",
      "Warning message:\n",
      "\"package 'carData' was built under R version 3.6.3\"Loading required package: lmtest\n",
      "Warning message:\n",
      "\"package 'lmtest' was built under R version 3.6.3\"Loading required package: zoo\n",
      "\n",
      "Attaching package: 'zoo'\n",
      "\n",
      "The following objects are masked from 'package:base':\n",
      "\n",
      "    as.Date, as.Date.numeric\n",
      "\n",
      "Loading required package: sandwich\n",
      "Warning message:\n",
      "\"package 'sandwich' was built under R version 3.6.3\"Loading required package: survival\n",
      "Warning message:\n",
      "\"package 'statmod' was built under R version 3.6.3\"\n",
      "Attaching package: 'dplyr'\n",
      "\n",
      "The following object is masked from 'package:car':\n",
      "\n",
      "    recode\n",
      "\n",
      "The following objects are masked from 'package:stats':\n",
      "\n",
      "    filter, lag\n",
      "\n",
      "The following objects are masked from 'package:base':\n",
      "\n",
      "    intersect, setdiff, setequal, union\n",
      "\n",
      "Registered S3 methods overwritten by 'ggplot2':\n",
      "  method         from \n",
      "  [.quosures     rlang\n",
      "  c.quosures     rlang\n",
      "  print.quosures rlang\n",
      "Warning message:\n",
      "\"package 'rsq' was built under R version 3.6.3\"Registered S3 methods overwritten by 'lme4':\n",
      "  method                          from\n",
      "  cooks.distance.influence.merMod car \n",
      "  influence.merMod                car \n",
      "  dfbeta.influence.merMod         car \n",
      "  dfbetas.influence.merMod        car \n",
      "Warning message:\n",
      "\"package 'countreg' was built under R version 3.6.3\"Loading required package: MASS\n",
      "\n",
      "Attaching package: 'MASS'\n",
      "\n",
      "The following object is masked from 'package:dplyr':\n",
      "\n",
      "    select\n",
      "\n",
      "\n",
      "Attaching package: 'countreg'\n",
      "\n",
      "The following object is masked from 'package:statmod':\n",
      "\n",
      "    qresiduals\n",
      "\n"
     ]
    }
   ],
   "source": [
    "library(\"AER\")\n",
    "library(\"insuranceData\")\n",
    "library(\"repr\")\n",
    "library(\"statmod\")\n",
    "library(dplyr)\n",
    "library(ggplot2)\n",
    "library(statmod)\n",
    "library(\"rsq\")\n",
    "data(dataCar)\n",
    "library(countreg)\n",
    "library(MASS)"
   ]
  },
  {
   "cell_type": "code",
   "execution_count": 15,
   "metadata": {},
   "outputs": [],
   "source": [
    "# Library Options"
   ]
  },
  {
   "cell_type": "code",
   "execution_count": 4,
   "metadata": {},
   "outputs": [],
   "source": [
    "options(repr.plot.width=5, repr.plot.height=4)"
   ]
  },
  {
   "cell_type": "code",
   "execution_count": null,
   "metadata": {},
   "outputs": [],
   "source": [
    "# Models"
   ]
  },
  {
   "cell_type": "code",
   "execution_count": 97,
   "metadata": {},
   "outputs": [
    {
     "data": {
      "text/html": [
       "<span style=white-space:pre-wrap>'Poisson:\\n    - Requires mean and variance to be equal.\\n    - If not, this is called over dispersion.\\n Other Issues:\\n    - We should seek to model claim count as a function of exposure.\\n    - Use offset in GLM model.\\n      see ref: https://www.researchgate.net/post/What_is_the_role_of_an_offset_term_in_modelling_a_GLM\\n\\n Modeling Excessive Zero Counts\\n    - Zero Inflation:  Model the count and zero data separately.  Use Poisson or negative binomial for the\\n      count and logit for the zeros.\\n    - Hurdle Models\\n\\n Rootogram\\n    - https://www.itl.nist.gov/div898/software/dataplot/refman1/ch2/rootogra.pdf\\n'</span>"
      ],
      "text/latex": [
       "'Poisson:\\textbackslash{}n    - Requires mean and variance to be equal.\\textbackslash{}n    - If not, this is called over dispersion.\\textbackslash{}n Other Issues:\\textbackslash{}n    - We should seek to model claim count as a function of exposure.\\textbackslash{}n    - Use offset in GLM model.\\textbackslash{}n      see ref: https://www.researchgate.net/post/What\\_is\\_the\\_role\\_of\\_an\\_offset\\_term\\_in\\_modelling\\_a\\_GLM\\textbackslash{}n\\textbackslash{}n Modeling Excessive Zero Counts\\textbackslash{}n    - Zero Inflation:  Model the count and zero data separately.  Use Poisson or negative binomial for the\\textbackslash{}n      count and logit for the zeros.\\textbackslash{}n    - Hurdle Models\\textbackslash{}n\\textbackslash{}n Rootogram\\textbackslash{}n    - https://www.itl.nist.gov/div898/software/dataplot/refman1/ch2/rootogra.pdf\\textbackslash{}n'"
      ],
      "text/markdown": [
       "<span style=white-space:pre-wrap>'Poisson:\\n    - Requires mean and variance to be equal.\\n    - If not, this is called over dispersion.\\n Other Issues:\\n    - We should seek to model claim count as a function of exposure.\\n    - Use offset in GLM model.\\n      see ref: https://www.researchgate.net/post/What_is_the_role_of_an_offset_term_in_modelling_a_GLM\\n\\n Modeling Excessive Zero Counts\\n    - Zero Inflation:  Model the count and zero data separately.  Use Poisson or negative binomial for the\\n      count and logit for the zeros.\\n    - Hurdle Models\\n\\n Rootogram\\n    - https://www.itl.nist.gov/div898/software/dataplot/refman1/ch2/rootogra.pdf\\n'</span>"
      ],
      "text/plain": [
       "[1] \"Poisson:\\n    - Requires mean and variance to be equal.\\n    - If not, this is called over dispersion.\\n Other Issues:\\n    - We should seek to model claim count as a function of exposure.\\n    - Use offset in GLM model.\\n      see ref: https://www.researchgate.net/post/What_is_the_role_of_an_offset_term_in_modelling_a_GLM\\n\\n Modeling Excessive Zero Counts\\n    - Zero Inflation:  Model the count and zero data separately.  Use Poisson or negative binomial for the\\n      count and logit for the zeros.\\n    - Hurdle Models\\n\\n Rootogram\\n    - https://www.itl.nist.gov/div898/software/dataplot/refman1/ch2/rootogra.pdf\\n\""
      ]
     },
     "metadata": {},
     "output_type": "display_data"
    }
   ],
   "source": [
    "'Poisson:\n",
    "    - Requires mean and variance to be equal.\n",
    "    - If not, this is called over dispersion.\n",
    " Other Issues:\n",
    "    - We should seek to model claim count as a function of exposure.\n",
    "    - Use offset in GLM model.\n",
    "      see ref: https://www.researchgate.net/post/What_is_the_role_of_an_offset_term_in_modelling_a_GLM\n",
    "\n",
    " Modeling Excessive Zero Counts\n",
    "    - Zero Inflation:  Model the count and zero data separately.  Use Poisson or negative binomial for the\n",
    "      count and logit for the zeros.\n",
    "    - Hurdle Models\n",
    "\n",
    " Rootogram\n",
    "    - https://www.itl.nist.gov/div898/software/dataplot/refman1/ch2/rootogra.pdf\n",
    "\n",
    " Why convert categorical variables to factors\n",
    "    - https://stats.idre.ucla.edu/r/modules/factor-variables/\n",
    "'"
   ]
  },
  {
   "cell_type": "code",
   "execution_count": null,
   "metadata": {},
   "outputs": [],
   "source": [
    "###########################################################\n",
    "# Insepect Data\n",
    "###########################################################"
   ]
  },
  {
   "cell_type": "code",
   "execution_count": 30,
   "metadata": {},
   "outputs": [
    {
     "data": {
      "text/html": [
       "'ref: https://cran.r-project.org/web/packages/dataPreparation/vignettes/train_test_prep.html'"
      ],
      "text/latex": [
       "'ref: https://cran.r-project.org/web/packages/dataPreparation/vignettes/train\\_test\\_prep.html'"
      ],
      "text/markdown": [
       "'ref: https://cran.r-project.org/web/packages/dataPreparation/vignettes/train_test_prep.html'"
      ],
      "text/plain": [
       "[1] \"ref: https://cran.r-project.org/web/packages/dataPreparation/vignettes/train_test_prep.html\""
      ]
     },
     "metadata": {},
     "output_type": "display_data"
    }
   ],
   "source": [
    "# Create Training Dataset\n",
    "'ref: https://cran.r-project.org/web/packages/dataPreparation/vignettes/train_test_prep.html'"
   ]
  },
  {
   "cell_type": "code",
   "execution_count": 58,
   "metadata": {},
   "outputs": [],
   "source": [
    "# Random Sample Indexes\n",
    "train_index <- sample(1:nrow(dataCar), 0.7 * nrow(dataCar))    # sample (1 to number of rows, with sample size of 0.7)\n",
    "test_index <- setdiff(1:nrow(dataCar), train_index)  # set function to remove 1:nrows from the train index"
   ]
  },
  {
   "cell_type": "code",
   "execution_count": 28,
   "metadata": {},
   "outputs": [],
   "source": [
    "# Check if there is any overlap\n",
    "overlap <- test_index %in% train_index"
   ]
  },
  {
   "cell_type": "code",
   "execution_count": 59,
   "metadata": {},
   "outputs": [
    {
     "data": {
      "text/html": [
       "<span style=white-space:pre-wrap>'\\nX_train &lt;- dataCar[train_index, -grep(\"clm\", colnames(dataCar))]    #use grep to get index location of target var and drop\\ny_train &lt;- dataCar[train_index, \"clm\"]\\nX_test &lt;- dataCar[test_index, -grep(\"clm\", colnames(dataCar))]\\ny_test &lt;- dataCar[test_index, \"clm\"]'</span>"
      ],
      "text/latex": [
       "'\\textbackslash{}nX\\_train <- dataCar{[}train\\_index, -grep(\"clm\", colnames(dataCar)){]}    \\#use grep to get index location of target var and drop\\textbackslash{}ny\\_train <- dataCar{[}train\\_index, \"clm\"{]}\\textbackslash{}nX\\_test <- dataCar{[}test\\_index, -grep(\"clm\", colnames(dataCar)){]}\\textbackslash{}ny\\_test <- dataCar{[}test\\_index, \"clm\"{]}'"
      ],
      "text/markdown": [
       "<span style=white-space:pre-wrap>'\\nX_train &lt;- dataCar[train_index, -grep(\"clm\", colnames(dataCar))]    #use grep to get index location of target var and drop\\ny_train &lt;- dataCar[train_index, \"clm\"]\\nX_test &lt;- dataCar[test_index, -grep(\"clm\", colnames(dataCar))]\\ny_test &lt;- dataCar[test_index, \"clm\"]'</span>"
      ],
      "text/plain": [
       "[1] \"\\nX_train <- dataCar[train_index, -grep(\\\"clm\\\", colnames(dataCar))]    #use grep to get index location of target var and drop\\ny_train <- dataCar[train_index, \\\"clm\\\"]\\nX_test <- dataCar[test_index, -grep(\\\"clm\\\", colnames(dataCar))]\\ny_test <- dataCar[test_index, \\\"clm\\\"]\""
      ]
     },
     "metadata": {},
     "output_type": "display_data"
    },
    {
     "ename": "ERROR",
     "evalue": "Error in `[.data.frame`(dataCar, train_index): undefined columns selected\n",
     "output_type": "error",
     "traceback": [
      "Error in `[.data.frame`(dataCar, train_index): undefined columns selected\nTraceback:\n",
      "1. dataCar[train_index]",
      "2. `[.data.frame`(dataCar, train_index)",
      "3. stop(\"undefined columns selected\")"
     ]
    }
   ],
   "source": [
    "# Build X_train, X_test, y_train, y_test, Note: in R I don't believe you need the X and y split.\n",
    "'\n",
    "X_train <- dataCar[train_index, -grep(\"clm\", colnames(dataCar))]    #use grep to get index location of target var and drop\n",
    "y_train <- dataCar[train_index, \"clm\"]\n",
    "X_test <- dataCar[test_index, -grep(\"clm\", colnames(dataCar))]\n",
    "y_test <- dataCar[test_index, \"clm\"]'\n"
   ]
  },
  {
   "cell_type": "code",
   "execution_count": 62,
   "metadata": {},
   "outputs": [],
   "source": [
    "train <- dataCar[train_index, ]\n",
    "test <- dataCar[test_index, ]"
   ]
  },
  {
   "cell_type": "code",
   "execution_count": 5,
   "metadata": {},
   "outputs": [
    {
     "data": {
      "text/plain": [
       "   veh_value         exposure             clm            numclaims      \n",
       " Min.   : 0.000   Min.   :0.002738   Min.   :0.00000   Min.   :0.00000  \n",
       " 1st Qu.: 1.010   1st Qu.:0.219028   1st Qu.:0.00000   1st Qu.:0.00000  \n",
       " Median : 1.500   Median :0.446270   Median :0.00000   Median :0.00000  \n",
       " Mean   : 1.777   Mean   :0.468651   Mean   :0.06814   Mean   :0.07276  \n",
       " 3rd Qu.: 2.150   3rd Qu.:0.709103   3rd Qu.:0.00000   3rd Qu.:0.00000  \n",
       " Max.   :34.560   Max.   :0.999316   Max.   :1.00000   Max.   :4.00000  \n",
       "                                                                        \n",
       "   claimcst0          veh_body        veh_age      gender    area     \n",
       " Min.   :    0.0   SEDAN  :22233   Min.   :1.000   F:38603   A:16312  \n",
       " 1st Qu.:    0.0   HBACK  :18915   1st Qu.:2.000   M:29253   B:13341  \n",
       " Median :    0.0   STNWG  :16261   Median :3.000             C:20540  \n",
       " Mean   :  137.3   UTE    : 4586   Mean   :2.674             D: 8173  \n",
       " 3rd Qu.:    0.0   TRUCK  : 1750   3rd Qu.:4.000             E: 5912  \n",
       " Max.   :55922.1   HDTOP  : 1579   Max.   :4.000             F: 3578  \n",
       "                   (Other): 2532                                      \n",
       "     agecat                     X_OBSTAT_    \n",
       " Min.   :1.000   01101    0    0    0:67856  \n",
       " 1st Qu.:2.000                               \n",
       " Median :3.000                               \n",
       " Mean   :3.485                               \n",
       " 3rd Qu.:5.000                               \n",
       " Max.   :6.000                               \n",
       "                                             "
      ]
     },
     "metadata": {},
     "output_type": "display_data"
    }
   ],
   "source": [
    "summary(dataCar)"
   ]
  },
  {
   "cell_type": "code",
   "execution_count": 6,
   "metadata": {},
   "outputs": [
    {
     "name": "stdout",
     "output_type": "stream",
     "text": [
      "'data.frame':\t67856 obs. of  11 variables:\n",
      " $ veh_value: num  1.06 1.03 3.26 4.14 0.72 2.01 1.6 1.47 0.52 0.38 ...\n",
      " $ exposure : num  0.304 0.649 0.569 0.318 0.649 ...\n",
      " $ clm      : int  0 0 0 0 0 0 0 0 0 0 ...\n",
      " $ numclaims: int  0 0 0 0 0 0 0 0 0 0 ...\n",
      " $ claimcst0: num  0 0 0 0 0 0 0 0 0 0 ...\n",
      " $ veh_body : Factor w/ 13 levels \"BUS\",\"CONVT\",..: 4 4 13 11 4 5 8 4 4 4 ...\n",
      " $ veh_age  : int  3 2 2 2 4 3 3 2 4 4 ...\n",
      " $ gender   : Factor w/ 2 levels \"F\",\"M\": 1 1 1 1 1 2 2 2 1 1 ...\n",
      " $ area     : Factor w/ 6 levels \"A\",\"B\",\"C\",\"D\",..: 3 1 5 4 3 3 1 2 1 2 ...\n",
      " $ agecat   : int  2 4 2 2 2 4 4 6 3 4 ...\n",
      " $ X_OBSTAT_: Factor w/ 1 level \"01101    0    0    0\": 1 1 1 1 1 1 1 1 1 1 ...\n"
     ]
    }
   ],
   "source": [
    "str(dataCar)"
   ]
  },
  {
   "cell_type": "code",
   "execution_count": 7,
   "metadata": {},
   "outputs": [
    {
     "data": {
      "text/html": [
       "<table>\n",
       "<thead><tr><th scope=col>veh_value</th><th scope=col>exposure</th><th scope=col>clm</th><th scope=col>numclaims</th><th scope=col>claimcst0</th><th scope=col>veh_body</th><th scope=col>veh_age</th><th scope=col>gender</th><th scope=col>area</th><th scope=col>agecat</th><th scope=col>X_OBSTAT_</th></tr></thead>\n",
       "<tbody>\n",
       "\t<tr><td>1.06                </td><td>0.3039014           </td><td>0                   </td><td>0                   </td><td>0                   </td><td>HBACK               </td><td>3                   </td><td>F                   </td><td>C                   </td><td>2                   </td><td>01101    0    0    0</td></tr>\n",
       "\t<tr><td>1.03                </td><td>0.6488706           </td><td>0                   </td><td>0                   </td><td>0                   </td><td>HBACK               </td><td>2                   </td><td>F                   </td><td>A                   </td><td>4                   </td><td>01101    0    0    0</td></tr>\n",
       "\t<tr><td>3.26                </td><td>0.5694730           </td><td>0                   </td><td>0                   </td><td>0                   </td><td>UTE                 </td><td>2                   </td><td>F                   </td><td>E                   </td><td>2                   </td><td>01101    0    0    0</td></tr>\n",
       "\t<tr><td>4.14                </td><td>0.3175907           </td><td>0                   </td><td>0                   </td><td>0                   </td><td>STNWG               </td><td>2                   </td><td>F                   </td><td>D                   </td><td>2                   </td><td>01101    0    0    0</td></tr>\n",
       "\t<tr><td>0.72                </td><td>0.6488706           </td><td>0                   </td><td>0                   </td><td>0                   </td><td>HBACK               </td><td>4                   </td><td>F                   </td><td>C                   </td><td>2                   </td><td>01101    0    0    0</td></tr>\n",
       "\t<tr><td>2.01                </td><td>0.8542094           </td><td>0                   </td><td>0                   </td><td>0                   </td><td>HDTOP               </td><td>3                   </td><td>M                   </td><td>C                   </td><td>4                   </td><td>01101    0    0    0</td></tr>\n",
       "</tbody>\n",
       "</table>\n"
      ],
      "text/latex": [
       "\\begin{tabular}{r|lllllllllll}\n",
       " veh\\_value & exposure & clm & numclaims & claimcst0 & veh\\_body & veh\\_age & gender & area & agecat & X\\_OBSTAT\\_\\\\\n",
       "\\hline\n",
       "\t 1.06                 & 0.3039014            & 0                    & 0                    & 0                    & HBACK                & 3                    & F                    & C                    & 2                    & 01101    0    0    0\\\\\n",
       "\t 1.03                 & 0.6488706            & 0                    & 0                    & 0                    & HBACK                & 2                    & F                    & A                    & 4                    & 01101    0    0    0\\\\\n",
       "\t 3.26                 & 0.5694730            & 0                    & 0                    & 0                    & UTE                  & 2                    & F                    & E                    & 2                    & 01101    0    0    0\\\\\n",
       "\t 4.14                 & 0.3175907            & 0                    & 0                    & 0                    & STNWG                & 2                    & F                    & D                    & 2                    & 01101    0    0    0\\\\\n",
       "\t 0.72                 & 0.6488706            & 0                    & 0                    & 0                    & HBACK                & 4                    & F                    & C                    & 2                    & 01101    0    0    0\\\\\n",
       "\t 2.01                 & 0.8542094            & 0                    & 0                    & 0                    & HDTOP                & 3                    & M                    & C                    & 4                    & 01101    0    0    0\\\\\n",
       "\\end{tabular}\n"
      ],
      "text/markdown": [
       "\n",
       "| veh_value | exposure | clm | numclaims | claimcst0 | veh_body | veh_age | gender | area | agecat | X_OBSTAT_ |\n",
       "|---|---|---|---|---|---|---|---|---|---|---|\n",
       "| 1.06                 | 0.3039014            | 0                    | 0                    | 0                    | HBACK                | 3                    | F                    | C                    | 2                    | 01101    0    0    0 |\n",
       "| 1.03                 | 0.6488706            | 0                    | 0                    | 0                    | HBACK                | 2                    | F                    | A                    | 4                    | 01101    0    0    0 |\n",
       "| 3.26                 | 0.5694730            | 0                    | 0                    | 0                    | UTE                  | 2                    | F                    | E                    | 2                    | 01101    0    0    0 |\n",
       "| 4.14                 | 0.3175907            | 0                    | 0                    | 0                    | STNWG                | 2                    | F                    | D                    | 2                    | 01101    0    0    0 |\n",
       "| 0.72                 | 0.6488706            | 0                    | 0                    | 0                    | HBACK                | 4                    | F                    | C                    | 2                    | 01101    0    0    0 |\n",
       "| 2.01                 | 0.8542094            | 0                    | 0                    | 0                    | HDTOP                | 3                    | M                    | C                    | 4                    | 01101    0    0    0 |\n",
       "\n"
      ],
      "text/plain": [
       "  veh_value exposure  clm numclaims claimcst0 veh_body veh_age gender area\n",
       "1 1.06      0.3039014 0   0         0         HBACK    3       F      C   \n",
       "2 1.03      0.6488706 0   0         0         HBACK    2       F      A   \n",
       "3 3.26      0.5694730 0   0         0         UTE      2       F      E   \n",
       "4 4.14      0.3175907 0   0         0         STNWG    2       F      D   \n",
       "5 0.72      0.6488706 0   0         0         HBACK    4       F      C   \n",
       "6 2.01      0.8542094 0   0         0         HDTOP    3       M      C   \n",
       "  agecat X_OBSTAT_           \n",
       "1 2      01101    0    0    0\n",
       "2 4      01101    0    0    0\n",
       "3 2      01101    0    0    0\n",
       "4 2      01101    0    0    0\n",
       "5 2      01101    0    0    0\n",
       "6 4      01101    0    0    0"
      ]
     },
     "metadata": {},
     "output_type": "display_data"
    }
   ],
   "source": [
    "head(dataCar)"
   ]
  },
  {
   "cell_type": "code",
   "execution_count": 8,
   "metadata": {},
   "outputs": [
    {
     "data": {
      "text/html": [
       "<table>\n",
       "<thead><tr><th scope=col>clm</th><th scope=col>Obs With Claims</th></tr></thead>\n",
       "<tbody>\n",
       "\t<tr><td>0    </td><td>63232</td></tr>\n",
       "\t<tr><td>1    </td><td> 4624</td></tr>\n",
       "</tbody>\n",
       "</table>\n"
      ],
      "text/latex": [
       "\\begin{tabular}{r|ll}\n",
       " clm & Obs With Claims\\\\\n",
       "\\hline\n",
       "\t 0     & 63232\\\\\n",
       "\t 1     &  4624\\\\\n",
       "\\end{tabular}\n"
      ],
      "text/markdown": [
       "\n",
       "| clm | Obs With Claims |\n",
       "|---|---|\n",
       "| 0     | 63232 |\n",
       "| 1     |  4624 |\n",
       "\n"
      ],
      "text/plain": [
       "  clm Obs With Claims\n",
       "1 0   63232          \n",
       "2 1    4624          "
      ]
     },
     "metadata": {},
     "output_type": "display_data"
    }
   ],
   "source": [
    "dataCar %>% group_by(clm) %>% summarise('Obs With Claims' = n())"
   ]
  },
  {
   "cell_type": "code",
   "execution_count": 93,
   "metadata": {},
   "outputs": [
    {
     "data": {
      "text/html": [
       "<table>\n",
       "<thead><tr><th scope=col>numclaims</th><th scope=col>NumClaims</th><th scope=col>percent</th></tr></thead>\n",
       "<tbody>\n",
       "\t<tr><td>0    </td><td>63232</td><td>0.932</td></tr>\n",
       "\t<tr><td>1    </td><td> 4333</td><td>0.064</td></tr>\n",
       "\t<tr><td>2    </td><td>  271</td><td>0.004</td></tr>\n",
       "\t<tr><td>3    </td><td>   18</td><td>0.000</td></tr>\n",
       "\t<tr><td>4    </td><td>    2</td><td>0.000</td></tr>\n",
       "</tbody>\n",
       "</table>\n"
      ],
      "text/latex": [
       "\\begin{tabular}{r|lll}\n",
       " numclaims & NumClaims & percent\\\\\n",
       "\\hline\n",
       "\t 0     & 63232 & 0.932\\\\\n",
       "\t 1     &  4333 & 0.064\\\\\n",
       "\t 2     &   271 & 0.004\\\\\n",
       "\t 3     &    18 & 0.000\\\\\n",
       "\t 4     &     2 & 0.000\\\\\n",
       "\\end{tabular}\n"
      ],
      "text/markdown": [
       "\n",
       "| numclaims | NumClaims | percent |\n",
       "|---|---|---|\n",
       "| 0     | 63232 | 0.932 |\n",
       "| 1     |  4333 | 0.064 |\n",
       "| 2     |   271 | 0.004 |\n",
       "| 3     |    18 | 0.000 |\n",
       "| 4     |     2 | 0.000 |\n",
       "\n"
      ],
      "text/plain": [
       "  numclaims NumClaims percent\n",
       "1 0         63232     0.932  \n",
       "2 1          4333     0.064  \n",
       "3 2           271     0.004  \n",
       "4 3            18     0.000  \n",
       "5 4             2     0.000  "
      ]
     },
     "metadata": {},
     "output_type": "display_data"
    }
   ],
   "source": [
    "# Get Table - Num Observations By Claim Count\n",
    "cntclaims <- dataCar %>% \n",
    "             group_by(numclaims) %>% \n",
    "             summarise('NumClaims' = n()) %>% \n",
    "             mutate(percent = round(NumClaims / sum(NumClaims), 3))\n",
    "cntclaims"
   ]
  },
  {
   "cell_type": "code",
   "execution_count": 22,
   "metadata": {},
   "outputs": [
    {
     "data": {
      "image/png": "[encoded data removed]",
      "text/plain": [
       "Plot with title \"Histogram of dataCar$numclaims\""
      ]
     },
     "metadata": {},
     "output_type": "display_data"
    }
   ],
   "source": [
    "# Hist Num Claims\n",
    "hist(dataCar$numclaims, col='red')"
   ]
  },
  {
   "cell_type": "code",
   "execution_count": 31,
   "metadata": {},
   "outputs": [
    {
     "data": {
      "image/png": "[encoded data removed]",
      "text/plain": [
       "Plot with title \"Histogram of dataCar$exposure\""
      ]
     },
     "metadata": {},
     "output_type": "display_data"
    }
   ],
   "source": [
    "# Hist Exposure (so the duration of each policy)\n",
    "hist(dataCar$exposure)"
   ]
  },
  {
   "cell_type": "code",
   "execution_count": null,
   "metadata": {},
   "outputs": [],
   "source": [
    "# Fit Poisson Model\n",
    "' Assessing model output\n",
    "  https://stats.idre.ucla.edu/r/dae/poisson-regression/'"
   ]
  },
  {
   "cell_type": "code",
   "execution_count": 63,
   "metadata": {},
   "outputs": [],
   "source": [
    "model.poisson <- glm(clm ~ veh_value + veh_body + gender + veh_age, data=train, family = \"poisson\", offset=log(exposure))"
   ]
  },
  {
   "cell_type": "code",
   "execution_count": 64,
   "metadata": {},
   "outputs": [
    {
     "data": {
      "text/plain": [
       "\n",
       "Call:\n",
       "glm(formula = clm ~ veh_value + veh_body + gender + veh_age, \n",
       "    family = \"poisson\", data = train, offset = log(exposure))\n",
       "\n",
       "Deviance Residuals: \n",
       "    Min       1Q   Median       3Q      Max  \n",
       "-0.8244  -0.4441  -0.3388  -0.2164   3.7064  \n",
       "\n",
       "Coefficients:\n",
       "              Estimate Std. Error z value Pr(>|z|)   \n",
       "(Intercept)   -0.91730    0.39057  -2.349  0.01884 * \n",
       "veh_value      0.01818    0.02163   0.840  0.40064   \n",
       "veh_bodyCONVT -1.07084    0.70188  -1.526  0.12709   \n",
       "veh_bodyCOUPE -0.44894    0.40326  -1.113  0.26559   \n",
       "veh_bodyHBACK -0.89346    0.38029  -2.349  0.01880 * \n",
       "veh_bodyHDTOP -0.82911    0.39372  -2.106  0.03522 * \n",
       "veh_bodyMCARA -0.72983    0.53606  -1.361  0.17336   \n",
       "veh_bodyMIBUS -1.04263    0.42441  -2.457  0.01402 * \n",
       "veh_bodyPANVN -0.76504    0.40635  -1.883  0.05974 . \n",
       "veh_bodyRDSTR -1.16473    1.07045  -1.088  0.27656   \n",
       "veh_bodySEDAN -0.90900    0.37955  -2.395  0.01662 * \n",
       "veh_bodySTNWG -0.81266    0.38011  -2.138  0.03252 * \n",
       "veh_bodyTRUCK -0.92561    0.39392  -2.350  0.01879 * \n",
       "veh_bodyUTE   -1.04938    0.38541  -2.723  0.00647 **\n",
       "genderM       -0.02262    0.03675  -0.615  0.53826   \n",
       "veh_age       -0.05309    0.02223  -2.388  0.01694 * \n",
       "---\n",
       "Signif. codes:  0 '***' 0.001 '**' 0.01 '*' 0.05 '.' 0.1 ' ' 1\n",
       "\n",
       "(Dispersion parameter for poisson family taken to be 1)\n",
       "\n",
       "    Null deviance: 16765  on 47498  degrees of freedom\n",
       "Residual deviance: 16722  on 47483  degrees of freedom\n",
       "AIC: 23300\n",
       "\n",
       "Number of Fisher Scoring iterations: 6\n"
      ]
     },
     "metadata": {},
     "output_type": "display_data"
    }
   ],
   "source": [
    "summary(model.poisson)"
   ]
  },
  {
   "cell_type": "code",
   "execution_count": 69,
   "metadata": {},
   "outputs": [],
   "source": [
    "# Predict Test Data\n",
    "test.x <- subset(test, select = -clm)\n",
    "pred.poisson <- predict(model.poisson, newdata = test.x, type='response')"
   ]
  },
  {
   "cell_type": "code",
   "execution_count": null,
   "metadata": {},
   "outputs": [],
   "source": [
    "# Test for over dispersion\n",
    "'Over vs under dispersion\n",
    " https://support.minitab.com/en-us/minitab/19/help-and-how-to/quality-and-process-improvement/control-charts/supporting-topics/understanding-attributes-control-charts/overdispersion-and-underdispersion/'"
   ]
  },
  {
   "cell_type": "code",
   "execution_count": 94,
   "metadata": {},
   "outputs": [
    {
     "data": {
      "text/plain": [
       "\n",
       "\tOverdispersion test\n",
       "\n",
       "data:  poissonglm\n",
       "z = -35.512, p-value = 1\n",
       "alternative hypothesis: true alpha is greater than 0\n",
       "sample estimates:\n",
       "      alpha \n",
       "-0.06814431 \n"
      ]
     },
     "metadata": {},
     "output_type": "display_data"
    }
   ],
   "source": [
    "dispersiontest(model.poisson, trafo=1)"
   ]
  },
  {
   "cell_type": "code",
   "execution_count": 96,
   "metadata": {},
   "outputs": [
    {
     "data": {
      "image/png": "[encoded data removed]",
      "text/plain": [
       "Plot with title \"poissonglm\""
      ]
     },
     "metadata": {},
     "output_type": "display_data"
    }
   ],
   "source": [
    "root.pios <- rootogram(model.poisson, style='hanging', plot=TRUE)\n",
    "'Rootogram:\n",
    "    expected counts, given the model, are shown by the thick red line,\n",
    "    observed counts are shown as bars, which in a hanging rootogram are show hanging from the red line of expected counts,\n",
    "    on the x-axis we have the count bin, 0 count, 1 count, 2 count, etc,\n",
    "    on the y-axis we have the square root of the observed or expected count — the square root transformation allows for departures from expectations to be seen even at small frequencies\n",
    "    A reference line is drawn at a height of 0\n",
    "'"
   ]
  },
  {
   "cell_type": "code",
   "execution_count": null,
   "metadata": {},
   "outputs": [],
   "source": [
    "# Fit Negative Binomial Model"
   ]
  },
  {
   "cell_type": "code",
   "execution_count": 13,
   "metadata": {},
   "outputs": [
    {
     "name": "stderr",
     "output_type": "stream",
     "text": [
      "Warning message in theta.ml(Y, mu, sum(w), w, limit = control$maxit, trace = control$trace > :\n",
      "\"iteration limit reached\"Warning message in theta.ml(Y, mu, sum(w), w, limit = control$maxit, trace = control$trace > :\n",
      "\"iteration limit reached\""
     ]
    }
   ],
   "source": [
    "model.nb <- glm.nb(clm ~ veh_value + veh_body + gender + veh_age, data=dataCar)"
   ]
  },
  {
   "cell_type": "code",
   "execution_count": 14,
   "metadata": {},
   "outputs": [
    {
     "data": {
      "text/html": [
       "-34034.2092441075"
      ],
      "text/latex": [
       "-34034.2092441075"
      ],
      "text/markdown": [
       "-34034.2092441075"
      ],
      "text/plain": [
       "[1] -34034.21"
      ]
     },
     "metadata": {},
     "output_type": "display_data"
    }
   ],
   "source": [
    "model.nb$twologlik"
   ]
  },
  {
   "cell_type": "code",
   "execution_count": 15,
   "metadata": {},
   "outputs": [
    {
     "data": {
      "text/plain": [
       "\n",
       "Call:\n",
       "glm.nb(formula = clm ~ veh_value + veh_body + gender + veh_age, \n",
       "    data = dataCar, init.theta = 1531.721242, link = log)\n",
       "\n",
       "Deviance Residuals: \n",
       "    Min       1Q   Median       3Q      Max  \n",
       "-0.6893  -0.3737  -0.3653  -0.3566   2.3027  \n",
       "\n",
       "Coefficients:\n",
       "              Estimate Std. Error z value Pr(>|z|)    \n",
       "(Intercept)   -1.69821    0.34314  -4.949 7.46e-07 ***\n",
       "veh_value      0.04768    0.01684   2.831 0.004644 ** \n",
       "veh_bodyCONVT -1.96884    0.67818  -2.903 0.003695 ** \n",
       "veh_bodyCOUPE -0.78814    0.35486  -2.221 0.026350 *  \n",
       "veh_bodyHBACK -1.02530    0.33530  -3.058 0.002229 ** \n",
       "veh_bodyHDTOP -0.84368    0.34474  -2.447 0.014393 *  \n",
       "veh_bodyMCARA -0.59453    0.42795  -1.389 0.164762    \n",
       "veh_bodyMIBUS -1.13982    0.36674  -3.108 0.001884 ** \n",
       "veh_bodyPANVN -0.81079    0.35682  -2.272 0.023073 *  \n",
       "veh_bodyRDSTR -1.10578    0.78286  -1.412 0.157807    \n",
       "veh_bodySEDAN -1.04234    0.33468  -3.114 0.001843 ** \n",
       "veh_bodySTNWG -1.01363    0.33492  -3.026 0.002474 ** \n",
       "veh_bodyTRUCK -1.03142    0.34571  -2.983 0.002850 ** \n",
       "veh_bodyUTE   -1.21088    0.33911  -3.571 0.000356 ***\n",
       "genderM       -0.02359    0.03090  -0.763 0.445261    \n",
       "veh_age       -0.01340    0.01816  -0.738 0.460413    \n",
       "---\n",
       "Signif. codes:  0 '***' 0.001 '**' 0.01 '*' 0.05 '.' 0.1 ' ' 1\n",
       "\n",
       "(Dispersion parameter for Negative Binomial(1531.721) family taken to be 1)\n",
       "\n",
       "    Null deviance: 24838  on 67855  degrees of freedom\n",
       "Residual deviance: 24783  on 67840  degrees of freedom\n",
       "AIC: 34068\n",
       "\n",
       "Number of Fisher Scoring iterations: 1\n",
       "\n",
       "\n",
       "              Theta:  1532 \n",
       "          Std. Err.:  1828 \n",
       "Warning while fitting theta: iteration limit reached \n",
       "\n",
       " 2 x log-likelihood:  -34034.21 "
      ]
     },
     "metadata": {},
     "output_type": "display_data"
    }
   ],
   "source": [
    "summary(model.nb)"
   ]
  },
  {
   "cell_type": "code",
   "execution_count": 16,
   "metadata": {},
   "outputs": [
    {
     "data": {
      "image/png": "[encoded data removed]",
      "text/plain": [
       "Plot with title \"model.nb\""
      ]
     },
     "metadata": {},
     "output_type": "display_data"
    }
   ],
   "source": [
    "rootogram(model.nb, plot=TRUE)"
   ]
  },
  {
   "cell_type": "code",
   "execution_count": null,
   "metadata": {},
   "outputs": [],
   "source": []
  },
  {
   "cell_type": "code",
   "execution_count": null,
   "metadata": {},
   "outputs": [],
   "source": []
  },
  {
   "cell_type": "code",
   "execution_count": null,
   "metadata": {},
   "outputs": [],
   "source": []
  },
  {
   "cell_type": "code",
   "execution_count": null,
   "metadata": {},
   "outputs": [],
   "source": []
  },
  {
   "cell_type": "code",
   "execution_count": null,
   "metadata": {},
   "outputs": [],
   "source": []
  },
  {
   "cell_type": "code",
   "execution_count": null,
   "metadata": {},
   "outputs": [],
   "source": []
  },
  {
   "cell_type": "code",
   "execution_count": null,
   "metadata": {},
   "outputs": [],
   "source": []
  },
  {
   "cell_type": "code",
   "execution_count": null,
   "metadata": {},
   "outputs": [],
   "source": []
  },
  {
   "cell_type": "code",
   "execution_count": null,
   "metadata": {},
   "outputs": [],
   "source": []
  },
  {
   "cell_type": "code",
   "execution_count": null,
   "metadata": {},
   "outputs": [],
   "source": []
  }
 ],
 "metadata": {
  "kernelspec": {
   "display_name": "R",
   "language": "R",
   "name": "ir"
  },
  "language_info": {
   "codemirror_mode": "r",
   "file_extension": ".r",
   "mimetype": "text/x-r-source",
   "name": "R",
   "pygments_lexer": "r",
   "version": "3.6.1"
  }
 },
 "nbformat": 4,
 "nbformat_minor": 4
}
