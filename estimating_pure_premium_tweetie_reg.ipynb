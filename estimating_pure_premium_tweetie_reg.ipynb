{
 "cells": [
  {
   "cell_type": "code",
   "execution_count": 1,
   "metadata": {},
   "outputs": [
    {
     "data": {
      "text/html": [
       "'Ref: https://towardsdatascience.com/insurance-risk-pricing-tweedie-approach-1d71207268fc\\n'"
      ],
      "text/latex": [
       "'Ref: https://towardsdatascience.com/insurance-risk-pricing-tweedie-approach-1d71207268fc\\textbackslash{}n'"
      ],
      "text/markdown": [
       "'Ref: https://towardsdatascience.com/insurance-risk-pricing-tweedie-approach-1d71207268fc\\n'"
      ],
      "text/plain": [
       "[1] \"Ref: https://towardsdatascience.com/insurance-risk-pricing-tweedie-approach-1d71207268fc\\n\""
      ]
     },
     "metadata": {},
     "output_type": "display_data"
    }
   ],
   "source": [
    "'Ref: https://towardsdatascience.com/insurance-risk-pricing-tweedie-approach-1d71207268fc\n",
    "'"
   ]
  },
  {
   "cell_type": "code",
   "execution_count": 6,
   "metadata": {},
   "outputs": [],
   "source": [
    "# Import / Install Libraries"
   ]
  },
  {
   "cell_type": "code",
   "execution_count": 219,
   "metadata": {},
   "outputs": [
    {
     "name": "stderr",
     "output_type": "stream",
     "text": [
      "Warning message:\n",
      "\"package 'rsq' was built under R version 3.6.3\""
     ]
    },
    {
     "data": {
      "text/html": [
       "'ref: https://cran.r-project.org/web/packages/tweedie/tweedie.pdf'"
      ],
      "text/latex": [
       "'ref: https://cran.r-project.org/web/packages/tweedie/tweedie.pdf'"
      ],
      "text/markdown": [
       "'ref: https://cran.r-project.org/web/packages/tweedie/tweedie.pdf'"
      ],
      "text/plain": [
       "[1] \"ref: https://cran.r-project.org/web/packages/tweedie/tweedie.pdf\""
      ]
     },
     "metadata": {},
     "output_type": "display_data"
    }
   ],
   "source": [
    "library(\"tweedie\")\n",
    "library(\"insuranceData\")\n",
    "library(\"repr\")\n",
    "library(\"statmod\")\n",
    "library(ggplot2)\n",
    "library(statmod)\n",
    "library(\"rsq\")\n",
    "data(dataCar)\n",
    "'ref: https://cran.r-project.org/web/packages/tweedie/tweedie.pdf'"
   ]
  },
  {
   "cell_type": "code",
   "execution_count": null,
   "metadata": {},
   "outputs": [],
   "source": [
    "# Set Parameters"
   ]
  },
  {
   "cell_type": "code",
   "execution_count": 96,
   "metadata": {},
   "outputs": [],
   "source": [
    "options(repr.plot.width=5, repr.plot.height=4)"
   ]
  },
  {
   "cell_type": "code",
   "execution_count": 16,
   "metadata": {},
   "outputs": [],
   "source": [
    "# Generate a Tweetie Distribution "
   ]
  },
  {
   "cell_type": "code",
   "execution_count": 97,
   "metadata": {},
   "outputs": [
    {
     "data": {
      "image/png": "[encoded data removed]",
      "text/plain": [
       "Plot with title \"Histogram of t_data\""
      ]
     },
     "metadata": {},
     "output_type": "display_data"
    }
   ],
   "source": [
    "set.seed(1234)\n",
    "n = 1000 # Number of observations to generate\n",
    "xi = 1.4 # index parameter p, which determines the distribution\n",
    "mu=1 # mean\n",
    "phi=1 # Phi, another shape parameter.\n",
    "t_data <- rtweedie(n, xi, mu, phi)\n",
    "hist(t_data, breaks=100)"
   ]
  },
  {
   "cell_type": "code",
   "execution_count": 33,
   "metadata": {},
   "outputs": [
    {
     "data": {
      "text/html": [
       "'This dataset is based on one-year vehicle insurance policies taken out in 2004 or 2005. \\nThere are 67,856 policies, of which 4624 (6.8% notified claims) filed claims.'"
      ],
      "text/latex": [
       "'This dataset is based on one-year vehicle insurance policies taken out in 2004 or 2005. \\textbackslash{}nThere are 67,856 policies, of which 4624 (6.8\\% notified claims) filed claims.'"
      ],
      "text/markdown": [
       "'This dataset is based on one-year vehicle insurance policies taken out in 2004 or 2005. \\nThere are 67,856 policies, of which 4624 (6.8% notified claims) filed claims.'"
      ],
      "text/plain": [
       "[1] \"This dataset is based on one-year vehicle insurance policies taken out in 2004 or 2005. \\nThere are 67,856 policies, of which 4624 (6.8% notified claims) filed claims.\""
      ]
     },
     "metadata": {},
     "output_type": "display_data"
    }
   ],
   "source": [
    "# Load | Inspect Dataset\n",
    "'This dataset is based on one-year vehicle insurance policies taken out in 2004 or 2005. \n",
    "There are 67,856 policies, of which 4624 (6.8% notified claims) filed claims.'"
   ]
  },
  {
   "cell_type": "code",
   "execution_count": 36,
   "metadata": {},
   "outputs": [
    {
     "data": {
      "text/plain": [
       "   veh_value         exposure             clm            numclaims      \n",
       " Min.   : 0.000   Min.   :0.002738   Min.   :0.00000   Min.   :0.00000  \n",
       " 1st Qu.: 1.010   1st Qu.:0.219028   1st Qu.:0.00000   1st Qu.:0.00000  \n",
       " Median : 1.500   Median :0.446270   Median :0.00000   Median :0.00000  \n",
       " Mean   : 1.777   Mean   :0.468651   Mean   :0.06814   Mean   :0.07276  \n",
       " 3rd Qu.: 2.150   3rd Qu.:0.709103   3rd Qu.:0.00000   3rd Qu.:0.00000  \n",
       " Max.   :34.560   Max.   :0.999316   Max.   :1.00000   Max.   :4.00000  \n",
       "                                                                        \n",
       "   claimcst0          veh_body        veh_age      gender    area     \n",
       " Min.   :    0.0   SEDAN  :22233   Min.   :1.000   F:38603   A:16312  \n",
       " 1st Qu.:    0.0   HBACK  :18915   1st Qu.:2.000   M:29253   B:13341  \n",
       " Median :    0.0   STNWG  :16261   Median :3.000             C:20540  \n",
       " Mean   :  137.3   UTE    : 4586   Mean   :2.674             D: 8173  \n",
       " 3rd Qu.:    0.0   TRUCK  : 1750   3rd Qu.:4.000             E: 5912  \n",
       " Max.   :55922.1   HDTOP  : 1579   Max.   :4.000             F: 3578  \n",
       "                   (Other): 2532                                      \n",
       "     agecat                     X_OBSTAT_    \n",
       " Min.   :1.000   01101    0    0    0:67856  \n",
       " 1st Qu.:2.000                               \n",
       " Median :3.000                               \n",
       " Mean   :3.485                               \n",
       " 3rd Qu.:5.000                               \n",
       " Max.   :6.000                               \n",
       "                                             "
      ]
     },
     "metadata": {},
     "output_type": "display_data"
    }
   ],
   "source": [
    "summary(dataCar)\n",
    "help(dataCar)"
   ]
  },
  {
   "cell_type": "code",
   "execution_count": 191,
   "metadata": {},
   "outputs": [
    {
     "data": {
      "text/html": [
       "0"
      ],
      "text/latex": [
       "0"
      ],
      "text/markdown": [
       "0"
      ],
      "text/plain": [
       "[1] 0"
      ]
     },
     "metadata": {},
     "output_type": "display_data"
    }
   ],
   "source": [
    "sum(is.na(dataCar$exposure))"
   ]
  },
  {
   "cell_type": "code",
   "execution_count": 79,
   "metadata": {},
   "outputs": [
    {
     "data": {
      "text/html": [
       "<table>\n",
       "<thead><tr><th scope=col>veh_value</th><th scope=col>exposure</th><th scope=col>clm</th><th scope=col>numclaims</th><th scope=col>claimcst0</th><th scope=col>veh_body</th><th scope=col>veh_age</th><th scope=col>gender</th><th scope=col>area</th><th scope=col>agecat</th><th scope=col>X_OBSTAT_</th></tr></thead>\n",
       "<tbody>\n",
       "\t<tr><td>1.06                </td><td>0.3039014           </td><td>0                   </td><td>0                   </td><td>0                   </td><td>HBACK               </td><td>3                   </td><td>F                   </td><td>C                   </td><td>2                   </td><td>01101    0    0    0</td></tr>\n",
       "\t<tr><td>1.03                </td><td>0.6488706           </td><td>0                   </td><td>0                   </td><td>0                   </td><td>HBACK               </td><td>2                   </td><td>F                   </td><td>A                   </td><td>4                   </td><td>01101    0    0    0</td></tr>\n",
       "\t<tr><td>3.26                </td><td>0.5694730           </td><td>0                   </td><td>0                   </td><td>0                   </td><td>UTE                 </td><td>2                   </td><td>F                   </td><td>E                   </td><td>2                   </td><td>01101    0    0    0</td></tr>\n",
       "\t<tr><td>4.14                </td><td>0.3175907           </td><td>0                   </td><td>0                   </td><td>0                   </td><td>STNWG               </td><td>2                   </td><td>F                   </td><td>D                   </td><td>2                   </td><td>01101    0    0    0</td></tr>\n",
       "\t<tr><td>0.72                </td><td>0.6488706           </td><td>0                   </td><td>0                   </td><td>0                   </td><td>HBACK               </td><td>4                   </td><td>F                   </td><td>C                   </td><td>2                   </td><td>01101    0    0    0</td></tr>\n",
       "\t<tr><td>2.01                </td><td>0.8542094           </td><td>0                   </td><td>0                   </td><td>0                   </td><td>HDTOP               </td><td>3                   </td><td>M                   </td><td>C                   </td><td>4                   </td><td>01101    0    0    0</td></tr>\n",
       "</tbody>\n",
       "</table>\n"
      ],
      "text/latex": [
       "\\begin{tabular}{r|lllllllllll}\n",
       " veh\\_value & exposure & clm & numclaims & claimcst0 & veh\\_body & veh\\_age & gender & area & agecat & X\\_OBSTAT\\_\\\\\n",
       "\\hline\n",
       "\t 1.06                 & 0.3039014            & 0                    & 0                    & 0                    & HBACK                & 3                    & F                    & C                    & 2                    & 01101    0    0    0\\\\\n",
       "\t 1.03                 & 0.6488706            & 0                    & 0                    & 0                    & HBACK                & 2                    & F                    & A                    & 4                    & 01101    0    0    0\\\\\n",
       "\t 3.26                 & 0.5694730            & 0                    & 0                    & 0                    & UTE                  & 2                    & F                    & E                    & 2                    & 01101    0    0    0\\\\\n",
       "\t 4.14                 & 0.3175907            & 0                    & 0                    & 0                    & STNWG                & 2                    & F                    & D                    & 2                    & 01101    0    0    0\\\\\n",
       "\t 0.72                 & 0.6488706            & 0                    & 0                    & 0                    & HBACK                & 4                    & F                    & C                    & 2                    & 01101    0    0    0\\\\\n",
       "\t 2.01                 & 0.8542094            & 0                    & 0                    & 0                    & HDTOP                & 3                    & M                    & C                    & 4                    & 01101    0    0    0\\\\\n",
       "\\end{tabular}\n"
      ],
      "text/markdown": [
       "\n",
       "| veh_value | exposure | clm | numclaims | claimcst0 | veh_body | veh_age | gender | area | agecat | X_OBSTAT_ |\n",
       "|---|---|---|---|---|---|---|---|---|---|---|\n",
       "| 1.06                 | 0.3039014            | 0                    | 0                    | 0                    | HBACK                | 3                    | F                    | C                    | 2                    | 01101    0    0    0 |\n",
       "| 1.03                 | 0.6488706            | 0                    | 0                    | 0                    | HBACK                | 2                    | F                    | A                    | 4                    | 01101    0    0    0 |\n",
       "| 3.26                 | 0.5694730            | 0                    | 0                    | 0                    | UTE                  | 2                    | F                    | E                    | 2                    | 01101    0    0    0 |\n",
       "| 4.14                 | 0.3175907            | 0                    | 0                    | 0                    | STNWG                | 2                    | F                    | D                    | 2                    | 01101    0    0    0 |\n",
       "| 0.72                 | 0.6488706            | 0                    | 0                    | 0                    | HBACK                | 4                    | F                    | C                    | 2                    | 01101    0    0    0 |\n",
       "| 2.01                 | 0.8542094            | 0                    | 0                    | 0                    | HDTOP                | 3                    | M                    | C                    | 4                    | 01101    0    0    0 |\n",
       "\n"
      ],
      "text/plain": [
       "  veh_value exposure  clm numclaims claimcst0 veh_body veh_age gender area\n",
       "1 1.06      0.3039014 0   0         0         HBACK    3       F      C   \n",
       "2 1.03      0.6488706 0   0         0         HBACK    2       F      A   \n",
       "3 3.26      0.5694730 0   0         0         UTE      2       F      E   \n",
       "4 4.14      0.3175907 0   0         0         STNWG    2       F      D   \n",
       "5 0.72      0.6488706 0   0         0         HBACK    4       F      C   \n",
       "6 2.01      0.8542094 0   0         0         HDTOP    3       M      C   \n",
       "  agecat X_OBSTAT_           \n",
       "1 2      01101    0    0    0\n",
       "2 4      01101    0    0    0\n",
       "3 2      01101    0    0    0\n",
       "4 2      01101    0    0    0\n",
       "5 2      01101    0    0    0\n",
       "6 4      01101    0    0    0"
      ]
     },
     "metadata": {},
     "output_type": "display_data"
    }
   ],
   "source": [
    "head(dataCar)"
   ]
  },
  {
   "cell_type": "code",
   "execution_count": 66,
   "metadata": {},
   "outputs": [
    {
     "data": {
      "text/html": [
       "'With claims =&gt; 4624'"
      ],
      "text/latex": [
       "'With claims => 4624'"
      ],
      "text/markdown": [
       "'With claims =&gt; 4624'"
      ],
      "text/plain": [
       "[1] \"With claims => 4624\""
      ]
     },
     "metadata": {},
     "output_type": "display_data"
    },
    {
     "data": {
      "text/html": [
       "'Without claims =&gt; 63232'"
      ],
      "text/latex": [
       "'Without claims => 63232'"
      ],
      "text/markdown": [
       "'Without claims =&gt; 63232'"
      ],
      "text/plain": [
       "[1] \"Without claims => 63232\""
      ]
     },
     "metadata": {},
     "output_type": "display_data"
    },
    {
     "data": {
      "text/html": [
       "'Pct w/ claims =&gt; 7.3 %'"
      ],
      "text/latex": [
       "'Pct w/ claims => 7.3 \\%'"
      ],
      "text/markdown": [
       "'Pct w/ claims =&gt; 7.3 %'"
      ],
      "text/plain": [
       "[1] \"Pct w/ claims => 7.3 %\""
      ]
     },
     "metadata": {},
     "output_type": "display_data"
    }
   ],
   "source": [
    "w.claims <- sum(subset(dataCar, clm == 1)$clm)\n",
    "w.out.claims <- dim(dataCar)[1] - w.claims\n",
    "paste('With claims =>', w.claims)\n",
    "paste('Without claims =>', w.out.claims)\n",
    "paste('Pct w/ claims =>', round(w.claims / w.out.claims, 3)*100, '%')"
   ]
  },
  {
   "cell_type": "code",
   "execution_count": null,
   "metadata": {},
   "outputs": [],
   "source": [
    "# Distribution Claim Cost"
   ]
  },
  {
   "cell_type": "code",
   "execution_count": 133,
   "metadata": {},
   "outputs": [
    {
     "data": {
      "image/png": "[encoded data removed]",
      "text/plain": [
       "Plot with title \"Histogram of dataCar$claimcst0\""
      ]
     },
     "metadata": {},
     "output_type": "display_data"
    }
   ],
   "source": [
    "hist(dataCar$claimcst0, breaks=10, labels=TRUE, col='blue', ylim = c(0, 1.3*max(dataCar$claimcst0)))"
   ]
  },
  {
   "cell_type": "code",
   "execution_count": 136,
   "metadata": {},
   "outputs": [
    {
     "data": {
      "image/png": "[encoded data removed]",
      "text/plain": [
       "Plot with title \"Histogram of loss.no.zero$claimcst0\""
      ]
     },
     "metadata": {},
     "output_type": "display_data"
    }
   ],
   "source": [
    "# Distribution without zeros\n",
    "loss.no.zero <- subset(dataCar, claimcst0 > 10000)\n",
    "hist(loss.no.zero$claimcst0, breaks=10, labels=TRUE)"
   ]
  },
  {
   "cell_type": "code",
   "execution_count": null,
   "metadata": {},
   "outputs": [],
   "source": [
    "# Get Distribution All Independent Variables"
   ]
  },
  {
   "cell_type": "code",
   "execution_count": 173,
   "metadata": {},
   "outputs": [
    {
     "data": {
      "text/html": [
       "<ol class=list-inline>\n",
       "\t<li>'veh_value'</li>\n",
       "\t<li>'exposure'</li>\n",
       "\t<li>'clm'</li>\n",
       "\t<li>'numclaims'</li>\n",
       "\t<li>'claimcst0'</li>\n",
       "\t<li>'veh_body'</li>\n",
       "\t<li>'veh_age'</li>\n",
       "\t<li>'gender'</li>\n",
       "\t<li>'area'</li>\n",
       "\t<li>'agecat'</li>\n",
       "\t<li>'X_OBSTAT_'</li>\n",
       "</ol>\n"
      ],
      "text/latex": [
       "\\begin{enumerate*}\n",
       "\\item 'veh\\_value'\n",
       "\\item 'exposure'\n",
       "\\item 'clm'\n",
       "\\item 'numclaims'\n",
       "\\item 'claimcst0'\n",
       "\\item 'veh\\_body'\n",
       "\\item 'veh\\_age'\n",
       "\\item 'gender'\n",
       "\\item 'area'\n",
       "\\item 'agecat'\n",
       "\\item 'X\\_OBSTAT\\_'\n",
       "\\end{enumerate*}\n"
      ],
      "text/markdown": [
       "1. 'veh_value'\n",
       "2. 'exposure'\n",
       "3. 'clm'\n",
       "4. 'numclaims'\n",
       "5. 'claimcst0'\n",
       "6. 'veh_body'\n",
       "7. 'veh_age'\n",
       "8. 'gender'\n",
       "9. 'area'\n",
       "10. 'agecat'\n",
       "11. 'X_OBSTAT_'\n",
       "\n",
       "\n"
      ],
      "text/plain": [
       " [1] \"veh_value\" \"exposure\"  \"clm\"       \"numclaims\" \"claimcst0\" \"veh_body\" \n",
       " [7] \"veh_age\"   \"gender\"    \"area\"      \"agecat\"    \"X_OBSTAT_\""
      ]
     },
     "metadata": {},
     "output_type": "display_data"
    }
   ],
   "source": [
    "col.names <- colnames(dataCar)"
   ]
  },
  {
   "cell_type": "code",
   "execution_count": 201,
   "metadata": {},
   "outputs": [
    {
     "data": {
      "text/html": [
       "<ol class=list-inline>\n",
       "\t<li>HBACK</li>\n",
       "\t<li>UTE</li>\n",
       "\t<li>STNWG</li>\n",
       "\t<li>HDTOP</li>\n",
       "\t<li>PANVN</li>\n",
       "\t<li>SEDAN</li>\n",
       "\t<li>TRUCK</li>\n",
       "\t<li>COUPE</li>\n",
       "\t<li>MIBUS</li>\n",
       "\t<li>MCARA</li>\n",
       "\t<li>BUS</li>\n",
       "\t<li>CONVT</li>\n",
       "\t<li>RDSTR</li>\n",
       "</ol>\n",
       "\n",
       "<details>\n",
       "\t<summary style=display:list-item;cursor:pointer>\n",
       "\t\t<strong>Levels</strong>:\n",
       "\t</summary>\n",
       "\t<ol class=list-inline>\n",
       "\t\t<li>'BUS'</li>\n",
       "\t\t<li>'CONVT'</li>\n",
       "\t\t<li>'COUPE'</li>\n",
       "\t\t<li>'HBACK'</li>\n",
       "\t\t<li>'HDTOP'</li>\n",
       "\t\t<li>'MCARA'</li>\n",
       "\t\t<li>'MIBUS'</li>\n",
       "\t\t<li>'PANVN'</li>\n",
       "\t\t<li>'RDSTR'</li>\n",
       "\t\t<li>'SEDAN'</li>\n",
       "\t\t<li>'STNWG'</li>\n",
       "\t\t<li>'TRUCK'</li>\n",
       "\t\t<li>'UTE'</li>\n",
       "\t</ol>\n",
       "</details>"
      ],
      "text/latex": [
       "\\begin{enumerate*}\n",
       "\\item HBACK\n",
       "\\item UTE\n",
       "\\item STNWG\n",
       "\\item HDTOP\n",
       "\\item PANVN\n",
       "\\item SEDAN\n",
       "\\item TRUCK\n",
       "\\item COUPE\n",
       "\\item MIBUS\n",
       "\\item MCARA\n",
       "\\item BUS\n",
       "\\item CONVT\n",
       "\\item RDSTR\n",
       "\\end{enumerate*}\n",
       "\n",
       "\\emph{Levels}: \\begin{enumerate*}\n",
       "\\item 'BUS'\n",
       "\\item 'CONVT'\n",
       "\\item 'COUPE'\n",
       "\\item 'HBACK'\n",
       "\\item 'HDTOP'\n",
       "\\item 'MCARA'\n",
       "\\item 'MIBUS'\n",
       "\\item 'PANVN'\n",
       "\\item 'RDSTR'\n",
       "\\item 'SEDAN'\n",
       "\\item 'STNWG'\n",
       "\\item 'TRUCK'\n",
       "\\item 'UTE'\n",
       "\\end{enumerate*}\n"
      ],
      "text/markdown": [
       "1. HBACK\n",
       "2. UTE\n",
       "3. STNWG\n",
       "4. HDTOP\n",
       "5. PANVN\n",
       "6. SEDAN\n",
       "7. TRUCK\n",
       "8. COUPE\n",
       "9. MIBUS\n",
       "10. MCARA\n",
       "11. BUS\n",
       "12. CONVT\n",
       "13. RDSTR\n",
       "\n",
       "\n",
       "\n",
       "**Levels**: 1. 'BUS'\n",
       "2. 'CONVT'\n",
       "3. 'COUPE'\n",
       "4. 'HBACK'\n",
       "5. 'HDTOP'\n",
       "6. 'MCARA'\n",
       "7. 'MIBUS'\n",
       "8. 'PANVN'\n",
       "9. 'RDSTR'\n",
       "10. 'SEDAN'\n",
       "11. 'STNWG'\n",
       "12. 'TRUCK'\n",
       "13. 'UTE'\n",
       "\n",
       "\n"
      ],
      "text/plain": [
       " [1] HBACK UTE   STNWG HDTOP PANVN SEDAN TRUCK COUPE MIBUS MCARA BUS   CONVT\n",
       "[13] RDSTR\n",
       "13 Levels: BUS CONVT COUPE HBACK HDTOP MCARA MIBUS PANVN RDSTR SEDAN ... UTE"
      ]
     },
     "metadata": {},
     "output_type": "display_data"
    }
   ],
   "source": [
    "unique(dataCar$veh_body)"
   ]
  },
  {
   "cell_type": "code",
   "execution_count": null,
   "metadata": {},
   "outputs": [],
   "source": []
  },
  {
   "cell_type": "code",
   "execution_count": null,
   "metadata": {},
   "outputs": [],
   "source": []
  },
  {
   "cell_type": "code",
   "execution_count": null,
   "metadata": {},
   "outputs": [],
   "source": []
  },
  {
   "cell_type": "code",
   "execution_count": null,
   "metadata": {},
   "outputs": [],
   "source": []
  },
  {
   "cell_type": "code",
   "execution_count": null,
   "metadata": {},
   "outputs": [],
   "source": []
  },
  {
   "cell_type": "code",
   "execution_count": 137,
   "metadata": {},
   "outputs": [
    {
     "data": {
      "text/html": [
       "<span style=white-space:pre-wrap>'- Normal Distribution:  clearly not normal \\n - Poisson: can also be discarded because this is not a count data. \\n - Gamma: but this distribution does not take zero values. \\n - Tweedie:  Only option and best fit for this data'</span>"
      ],
      "text/latex": [
       "'- Normal Distribution:  clearly not normal \\textbackslash{}n - Poisson: can also be discarded because this is not a count data. \\textbackslash{}n - Gamma: but this distribution does not take zero values. \\textbackslash{}n - Tweedie:  Only option and best fit for this data'"
      ],
      "text/markdown": [
       "<span style=white-space:pre-wrap>'- Normal Distribution:  clearly not normal \\n - Poisson: can also be discarded because this is not a count data. \\n - Gamma: but this distribution does not take zero values. \\n - Tweedie:  Only option and best fit for this data'</span>"
      ],
      "text/plain": [
       "[1] \"- Normal Distribution:  clearly not normal \\n - Poisson: can also be discarded because this is not a count data. \\n - Gamma: but this distribution does not take zero values. \\n - Tweedie:  Only option and best fit for this data\""
      ]
     },
     "metadata": {},
     "output_type": "display_data"
    }
   ],
   "source": [
    "# Determining the best distribution to fit the data\n",
    "'- Normal Distribution:  clearly not normal \n",
    " - Poisson: can also be discarded because this is not a count data. \n",
    " - Gamma: but this distribution does not take zero values. \n",
    " - Tweedie:  Only option and best fit for this data'"
   ]
  },
  {
   "cell_type": "code",
   "execution_count": 138,
   "metadata": {},
   "outputs": [
    {
     "data": {
      "text/html": [
       "<span style=white-space:pre-wrap>' Fitting Model\\n\\n    Approach 1 — Manual selection of the variance power.\\n        Test a sequence of “p” between 1 to 2 by running iterative models.\\n        The Log-likelihood shows an inverse “U” shape.\\n        Select the “p” that corresponds to the “maximum” log-likelihood value.\\n        Fit the final model using that “p” value.\\n\\n    Approach 2 — Automated selection of variance power using statistical packages\\n        Statistical packages (macros) are available in various software such as R, SAS, \\n        Python, and Emblem (Industry-specific software) to calculate maximum likelihood estimate \\n        for a series of “p” value. These are a kind of improvement to approach 1 with many other \\n        added features such as visualization. We can see the sample output below in the form of a\\n        graph generated from R using the “Tweedie” package.\\n'</span>"
      ],
      "text/latex": [
       "' Fitting Model\\textbackslash{}n\\textbackslash{}n    Approach 1 — Manual selection of the variance power.\\textbackslash{}n        Test a sequence of “p” between 1 to 2 by running iterative models.\\textbackslash{}n        The Log-likelihood shows an inverse “U” shape.\\textbackslash{}n        Select the “p” that corresponds to the “maximum” log-likelihood value.\\textbackslash{}n        Fit the final model using that “p” value.\\textbackslash{}n\\textbackslash{}n    Approach 2 — Automated selection of variance power using statistical packages\\textbackslash{}n        Statistical packages (macros) are available in various software such as R, SAS, \\textbackslash{}n        Python, and Emblem (Industry-specific software) to calculate maximum likelihood estimate \\textbackslash{}n        for a series of “p” value. These are a kind of improvement to approach 1 with many other \\textbackslash{}n        added features such as visualization. We can see the sample output below in the form of a\\textbackslash{}n        graph generated from R using the “Tweedie” package.\\textbackslash{}n'"
      ],
      "text/markdown": [
       "<span style=white-space:pre-wrap>' Fitting Model\\n\\n    Approach 1 — Manual selection of the variance power.\\n        Test a sequence of “p” between 1 to 2 by running iterative models.\\n        The Log-likelihood shows an inverse “U” shape.\\n        Select the “p” that corresponds to the “maximum” log-likelihood value.\\n        Fit the final model using that “p” value.\\n\\n    Approach 2 — Automated selection of variance power using statistical packages\\n        Statistical packages (macros) are available in various software such as R, SAS, \\n        Python, and Emblem (Industry-specific software) to calculate maximum likelihood estimate \\n        for a series of “p” value. These are a kind of improvement to approach 1 with many other \\n        added features such as visualization. We can see the sample output below in the form of a\\n        graph generated from R using the “Tweedie” package.\\n'</span>"
      ],
      "text/plain": [
       "[1] \" Fitting Model\\n\\n    Approach 1 — Manual selection of the variance power.\\n        Test a sequence of “p” between 1 to 2 by running iterative models.\\n        The Log-likelihood shows an inverse “U” shape.\\n        Select the “p” that corresponds to the “maximum” log-likelihood value.\\n        Fit the final model using that “p” value.\\n\\n    Approach 2 — Automated selection of variance power using statistical packages\\n        Statistical packages (macros) are available in various software such as R, SAS, \\n        Python, and Emblem (Industry-specific software) to calculate maximum likelihood estimate \\n        for a series of “p” value. These are a kind of improvement to approach 1 with many other \\n        added features such as visualization. We can see the sample output below in the form of a\\n        graph generated from R using the “Tweedie” package.\\n\""
      ]
     },
     "metadata": {},
     "output_type": "display_data"
    }
   ],
   "source": [
    "' Fitting Model\n",
    "\n",
    "    Approach 1 — Manual selection of the variance power.\n",
    "        Test a sequence of “p” between 1 to 2 by running iterative models.\n",
    "        The Log-likelihood shows an inverse “U” shape.\n",
    "        Select the “p” that corresponds to the “maximum” log-likelihood value.\n",
    "        Fit the final model using that “p” value.\n",
    "\n",
    "    Approach 2 — Automated selection of variance power using statistical packages\n",
    "        Statistical packages (macros) are available in various software such as R, SAS, \n",
    "        Python, and Emblem (Industry-specific software) to calculate maximum likelihood estimate \n",
    "        for a series of “p” value. These are a kind of improvement to approach 1 with many other \n",
    "        added features such as visualization. We can see the sample output below in the form of a\n",
    "        graph generated from R using the “Tweedie” package.\n",
    "'"
   ]
  },
  {
   "cell_type": "code",
   "execution_count": null,
   "metadata": {},
   "outputs": [],
   "source": [
    "# Profile Tweetie Model To Find Optimal P (power) value"
   ]
  },
  {
   "cell_type": "code",
   "execution_count": 149,
   "metadata": {},
   "outputs": [],
   "source": [
    "help(tweedie.profile)"
   ]
  },
  {
   "cell_type": "code",
   "execution_count": 193,
   "metadata": {},
   "outputs": [
    {
     "data": {
      "text/html": [
       "<ol class=list-inline>\n",
       "\t<li>'veh_value'</li>\n",
       "\t<li>'exposure'</li>\n",
       "\t<li>'clm'</li>\n",
       "\t<li>'numclaims'</li>\n",
       "\t<li>'claimcst0'</li>\n",
       "\t<li>'veh_body'</li>\n",
       "\t<li>'veh_age'</li>\n",
       "\t<li>'gender'</li>\n",
       "\t<li>'area'</li>\n",
       "\t<li>'agecat'</li>\n",
       "\t<li>'X_OBSTAT_'</li>\n",
       "</ol>\n"
      ],
      "text/latex": [
       "\\begin{enumerate*}\n",
       "\\item 'veh\\_value'\n",
       "\\item 'exposure'\n",
       "\\item 'clm'\n",
       "\\item 'numclaims'\n",
       "\\item 'claimcst0'\n",
       "\\item 'veh\\_body'\n",
       "\\item 'veh\\_age'\n",
       "\\item 'gender'\n",
       "\\item 'area'\n",
       "\\item 'agecat'\n",
       "\\item 'X\\_OBSTAT\\_'\n",
       "\\end{enumerate*}\n"
      ],
      "text/markdown": [
       "1. 'veh_value'\n",
       "2. 'exposure'\n",
       "3. 'clm'\n",
       "4. 'numclaims'\n",
       "5. 'claimcst0'\n",
       "6. 'veh_body'\n",
       "7. 'veh_age'\n",
       "8. 'gender'\n",
       "9. 'area'\n",
       "10. 'agecat'\n",
       "11. 'X_OBSTAT_'\n",
       "\n",
       "\n"
      ],
      "text/plain": [
       " [1] \"veh_value\" \"exposure\"  \"clm\"       \"numclaims\" \"claimcst0\" \"veh_body\" \n",
       " [7] \"veh_age\"   \"gender\"    \"area\"      \"agecat\"    \"X_OBSTAT_\""
      ]
     },
     "metadata": {},
     "output_type": "display_data"
    },
    {
     "data": {
      "text/html": [
       "<ol class=list-inline>\n",
       "\t<li>1</li>\n",
       "\t<li>1.1</li>\n",
       "\t<li>1.2</li>\n",
       "\t<li>1.3</li>\n",
       "\t<li>1.4</li>\n",
       "\t<li>1.5</li>\n",
       "\t<li>1.6</li>\n",
       "\t<li>1.7</li>\n",
       "\t<li>1.9</li>\n",
       "\t<li>2</li>\n",
       "</ol>\n"
      ],
      "text/latex": [
       "\\begin{enumerate*}\n",
       "\\item 1\n",
       "\\item 1.1\n",
       "\\item 1.2\n",
       "\\item 1.3\n",
       "\\item 1.4\n",
       "\\item 1.5\n",
       "\\item 1.6\n",
       "\\item 1.7\n",
       "\\item 1.9\n",
       "\\item 2\n",
       "\\end{enumerate*}\n"
      ],
      "text/markdown": [
       "1. 1\n",
       "2. 1.1\n",
       "3. 1.2\n",
       "4. 1.3\n",
       "5. 1.4\n",
       "6. 1.5\n",
       "7. 1.6\n",
       "8. 1.7\n",
       "9. 1.9\n",
       "10. 2\n",
       "\n",
       "\n"
      ],
      "text/plain": [
       " [1] 1.0 1.1 1.2 1.3 1.4 1.5 1.6 1.7 1.9 2.0"
      ]
     },
     "metadata": {},
     "output_type": "display_data"
    }
   ],
   "source": [
    "colnames(dataCar)\n",
    "smp_size = round(0.3 * nrow(dataCar), 0)\n",
    "train = dataCar[sample(nrow(dataCar), smp_size), ]\n",
    "p.range <- seq(1, 2, 0.1)\n",
    "p.range <- p.range[p.range != 1.8]"
   ]
  },
  {
   "cell_type": "code",
   "execution_count": 194,
   "metadata": {},
   "outputs": [
    {
     "name": "stderr",
     "output_type": "stream",
     "text": [
      "Warning message in model.matrix.default(mt, mf, contrasts):\n",
      "\"non-list contrasts argument ignored\""
     ]
    },
    {
     "name": "stdout",
     "output_type": "stream",
     "text": [
      "Values of p between 0 and 1 and less than zero have been removed: such values are not possible.\n",
      "When the response variable contains exact zeros, all values of p must be between 1 and 2; other values have been removed.\n",
      "1.1 1.2 1.3 1.4 1.5 1.6 1.7 1.9 \n",
      "......."
     ]
    },
    {
     "name": "stderr",
     "output_type": "stream",
     "text": [
      "Warning message:\n",
      "\"glm.fit: algorithm did not converge\""
     ]
    },
    {
     "name": "stdout",
     "output_type": "stream",
     "text": [
      "."
     ]
    },
    {
     "name": "stderr",
     "output_type": "stream",
     "text": [
      "Warning message:\n",
      "\"step size truncated due to divergence\"Warning message in tweedie.profile(claimcst0 ~ veh_value + veh_body + veh_age + :\n",
      "\"  Problem near  p  =  1.9 ; this error reported:\n",
      "      Error in glm.fit(x = model.x, y = ydata, weights = weights, offset = offset,  : \n",
      "  NA/NaN/Inf in 'x'\n",
      "  Examine the data and function inputs carefully.\""
     ]
    },
    {
     "name": "stdout",
     "output_type": "stream",
     "text": [
      "Done.\n"
     ]
    },
    {
     "data": {
      "image/png": "[encoded data removed]",
      "text/plain": [
       "plot without title"
      ]
     },
     "metadata": {},
     "output_type": "display_data"
    }
   ],
   "source": [
    "# link.power = logarithm link function.\n",
    "est_p <- tweedie.profile(claimcst0 ~ veh_value+veh_body+veh_age+ gender+area+agecat,\n",
    "                         p.vec=p.range, data=train,link.power=0, do.smooth = TRUE,\n",
    "                         do.plot = TRUE)\n"
   ]
  },
  {
   "cell_type": "code",
   "execution_count": null,
   "metadata": {},
   "outputs": [],
   "source": [
    "# Tweetie Implementation"
   ]
  },
  {
   "cell_type": "code",
   "execution_count": 235,
   "metadata": {},
   "outputs": [],
   "source": [
    "tweedie_model <- glm(claimcst0 ~ veh_value+veh_body+veh_age+gender+ area+agecat,\n",
    "                     data=train, family=tweedie(var.power=1.6, link.power=0),offset=log(exposure))"
   ]
  },
  {
   "cell_type": "code",
   "execution_count": 242,
   "metadata": {},
   "outputs": [],
   "source": [
    "pred <- predict(tweedie_model, train)"
   ]
  },
  {
   "cell_type": "code",
   "execution_count": 236,
   "metadata": {},
   "outputs": [
    {
     "data": {
      "text/html": [
       "54.920910115298"
      ],
      "text/latex": [
       "54.920910115298"
      ],
      "text/markdown": [
       "54.920910115298"
      ],
      "text/plain": [
       "[1] 54.92091"
      ]
     },
     "metadata": {},
     "output_type": "display_data"
    }
   ],
   "source": [
    "sqrt(mean(tweedie_model$residuals^2))\n"
   ]
  },
  {
   "cell_type": "code",
   "execution_count": null,
   "metadata": {},
   "outputs": [],
   "source": []
  }
 ],
 "metadata": {
  "kernelspec": {
   "display_name": "R",
   "language": "R",
   "name": "ir"
  },
  "language_info": {
   "codemirror_mode": "r",
   "file_extension": ".r",
   "mimetype": "text/x-r-source",
   "name": "R",
   "pygments_lexer": "r",
   "version": "3.6.1"
  }
 },
 "nbformat": 4,
 "nbformat_minor": 4
}
